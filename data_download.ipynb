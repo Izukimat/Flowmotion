{
 "cells": [
  {
   "cell_type": "code",
   "execution_count": 1,
   "id": "31a781f9",
   "metadata": {},
   "outputs": [],
   "source": [
    "# !pip install tciaclient pydicom matplotlib numpy\n",
    "import os\n",
    "import zipfile\n",
    "from tqdm import tqdm\n",
    "from pathlib import Path\n",
    "from tciaclient.core import TCIAClient\n",
    "import matplotlib.pyplot as plt\n",
    "import pydicom\n",
    "import numpy as np\n",
    "\n",
    "client = TCIAClient()\n"
   ]
  },
  {
   "cell_type": "code",
   "execution_count": 2,
   "id": "72400a70",
   "metadata": {},
   "outputs": [
    {
     "name": "stdout",
     "output_type": "stream",
     "text": [
      "Found 64 patients.\n",
      "- RIDER-1129164940\n",
      "- RIDER-1129164940\n",
      "- RIDER-1225316081\n"
     ]
    }
   ],
   "source": [
    "# Set constants\n",
    "COLLECTION = \"RIDER Lung CT\"\n",
    "DATA_DIR = Path(\"/mnt/tcia_data/raw\") / COLLECTION\n",
    "DATA_DIR.mkdir(parents=True, exist_ok=True)\n",
    "\n",
    "# Initialize TCIA API client\n",
    "client = TCIAClient()\n",
    "\n",
    "# List all patients in the collection\n",
    "patients = client.get_patient(collection=COLLECTION)\n",
    "print(f\"Found {len(patients)} patients.\")\n",
    "\n",
    "# Optional: preview a few\n",
    "for p in patients[:3]:\n",
    "    print(\"-\", p[\"PatientID\"])"
   ]
  },
  {
   "cell_type": "code",
   "execution_count": null,
   "id": "d89d5f3e",
   "metadata": {},
   "outputs": [
    {
     "name": "stderr",
     "output_type": "stream",
     "text": [
      "Downloading RIDER Lung CT:  84%|████████▍ | 54/64 [3:39:01<35:35, 213.54s/it]  "
     ]
    }
   ],
   "source": [
    "# Loop over all patients and download all CT series\n",
    "for p in tqdm(patients, desc=f\"Downloading {COLLECTION}\"):\n",
    "    patient_id = p[\"PatientID\"]\n",
    "    try:\n",
    "        studies = client.get_patient_study(collection=COLLECTION, patientId=patient_id)\n",
    "        for study in studies:\n",
    "            study_uid = study[\"StudyInstanceUID\"]\n",
    "            series_list = client.get_series(collection=COLLECTION, studyInstanceUid=study_uid, modality=\"CT\")\n",
    "\n",
    "            for series in series_list:\n",
    "                series_uid = series[\"SeriesInstanceUID\"]\n",
    "                out_dir = DATA_DIR / patient_id / series_uid\n",
    "                zip_file = out_dir / \"series.zip\"\n",
    "\n",
    "                if out_dir.exists() and any(out_dir.glob(\"*.dcm\")):\n",
    "                    continue  # already exists\n",
    "\n",
    "                os.makedirs(out_dir, exist_ok=True)\n",
    "                client.get_image(seriesInstanceUid=series_uid, downloadPath=out_dir, zipFileName=\"series.zip\")\n",
    "\n",
    "                with zipfile.ZipFile(zip_file, \"r\") as zip_ref:\n",
    "                    zip_ref.extractall(out_dir)\n",
    "                os.remove(zip_file)\n",
    "\n",
    "    except Exception as e:\n",
    "        print(f\"[ERROR] {patient_id}: {e}\")\n"
   ]
  },
  {
   "cell_type": "code",
   "execution_count": null,
   "id": "0cdb3d3c",
   "metadata": {},
   "outputs": [],
   "source": []
  }
 ],
 "metadata": {
  "kernelspec": {
   "display_name": "flowmotion-N6nEB-HP-py3.12",
   "language": "python",
   "name": "python3"
  },
  "language_info": {
   "codemirror_mode": {
    "name": "ipython",
    "version": 3
   },
   "file_extension": ".py",
   "mimetype": "text/x-python",
   "name": "python",
   "nbconvert_exporter": "python",
   "pygments_lexer": "ipython3",
   "version": "3.12.9"
  }
 },
 "nbformat": 4,
 "nbformat_minor": 5
}
